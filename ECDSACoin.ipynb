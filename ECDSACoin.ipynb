{
 "cells": [
  {
   "cell_type": "markdown",
   "metadata": {},
   "source": [
    "[slides](https://docs.google.com/presentation/d/19K9nVjuSOCrZGM6lmFeEEarTm2xZwDSiZEIzf-Ywr5o/edit?usp=sharing)\n",
    "\n",
    "[python-ecdsa docs](https://github.com/warner/python-ecdsa)"
   ]
  },
  {
   "cell_type": "markdown",
   "metadata": {},
   "source": [
    "# Signing our First Message with ECDSA"
   ]
  },
  {
   "cell_type": "code",
   "execution_count": 1,
   "metadata": {},
   "outputs": [],
   "source": [
    "from ecdsa import SigningKey, SECP256k1\n",
    "\n",
    "private_key = SigningKey.generate(curve=SECP256k1)\n",
    "public_key = private_key.get_verifying_key()\n",
    "\n",
    "message = b\"Don't touch that XRP\"\n",
    "signature = private_key.sign(message)"
   ]
  },
  {
   "cell_type": "code",
   "execution_count": 5,
   "metadata": {},
   "outputs": [
    {
     "name": "stdout",
     "output_type": "stream",
     "text": [
      "b'\\xb7\\xc5*\\x8d\\x96\\x17\\xcd Y\\x9e\\xdd\\x90\\xde\\x0fg\\x8c\\xf1\\x1f\\x7fa\\xf6;_f\\xf8\\xe8\\xa4\\xb9\\xd7\\xf6E\\x15\\x8c\\xf0\\xbc~\\x88\\xfbR\\x95\\x0b*C\\x07\\x07\\x9ag\\xdc\\xf4\\xef\\x12\\xcbR\\xde\\x1e\\xb7\\xf8\\xfc*C\\xd9}L\\xa5'\n"
     ]
    }
   ],
   "source": [
    "print(private_key.sign(b\"one\"))"
   ]
  },
  {
   "cell_type": "code",
   "execution_count": 6,
   "metadata": {},
   "outputs": [
    {
     "name": "stdout",
     "output_type": "stream",
     "text": [
      "b'\\x93=\\x15\\\\\\x955rJS\\xde\\x12\\xb3Nj\\x10\\x0f\\xd8\\xddb\\xc0\\xf7\\xb4\\xee6\\xbc\\x9e}%]5A\\\\[\\x91\\xdb5\\xa1\\x9a\\x8e\\x1d\\xd3\\xfa\\x83[\\xf9\\x83\\xd18\\\\\\x85\\xeaR\\x0b\\x14\\xa8\\xe9\\xf1\\x854ip+)\\xfe'\n"
     ]
    }
   ],
   "source": [
    "print(private_key.sign(b\"two\"))"
   ]
  },
  {
   "cell_type": "code",
   "execution_count": 11,
   "metadata": {},
   "outputs": [
    {
     "name": "stdout",
     "output_type": "stream",
     "text": [
      "8f434346648f6b96df89dda901c5176b10a6d83961dd3c1ac88b59b2dc327aa4\n",
      "8f434346648f6b96df89dda901c5176b10a6d83961dd3c1ac88b59b2dc327aa4\n",
      "1aa9c8058cbb12d944b913c02857c20c7081980c795f21446b63755ef731d162\n"
     ]
    }
   ],
   "source": [
    "import hashlib\n",
    "\n",
    "print(hashlib.sha256(b'hi').hexdigest())\n",
    "\n",
    "print(hashlib.sha256(b'hi').hexdigest())\n",
    "\n",
    "print(hashlib.sha256(b'hi'*10000000).hexdigest())\n",
    "\n"
   ]
  },
  {
   "cell_type": "markdown",
   "metadata": {},
   "source": [
    "input ---(hash)---> output\n",
    "\n",
    "input ---(digital signature)---> output\n",
    "* private & public keys"
   ]
  },
  {
   "cell_type": "code",
   "execution_count": 2,
   "metadata": {},
   "outputs": [
    {
     "data": {
      "text/plain": [
       "True"
      ]
     },
     "execution_count": 2,
     "metadata": {},
     "output_type": "execute_result"
    }
   ],
   "source": [
    "public_key.verify(signature, message)"
   ]
  },
  {
   "cell_type": "code",
   "execution_count": 3,
   "metadata": {},
   "outputs": [
    {
     "ename": "BadSignatureError",
     "evalue": "",
     "output_type": "error",
     "traceback": [
      "\u001b[0;31m---------------------------------------------------------------------------\u001b[0m",
      "\u001b[0;31mBadSignatureError\u001b[0m                         Traceback (most recent call last)",
      "\u001b[0;32m<ipython-input-3-30ffb2caeca2>\u001b[0m in \u001b[0;36m<module>\u001b[0;34m()\u001b[0m\n\u001b[0;32m----> 1\u001b[0;31m \u001b[0mpublic_key\u001b[0m\u001b[0;34m.\u001b[0m\u001b[0mverify\u001b[0m\u001b[0;34m(\u001b[0m\u001b[0msignature\u001b[0m\u001b[0;34m,\u001b[0m \u001b[0;34mb\"Nice XRP\"\u001b[0m\u001b[0;34m)\u001b[0m\u001b[0;34m\u001b[0m\u001b[0;34m\u001b[0m\u001b[0m\n\u001b[0m",
      "\u001b[0;32m~/dev/digital-cash/venv/src/ecdsa/src/ecdsa/keys.py\u001b[0m in \u001b[0;36mverify\u001b[0;34m(self, signature, data, hashfunc, sigdecode)\u001b[0m\n\u001b[1;32m    107\u001b[0m         \u001b[0mhashfunc\u001b[0m \u001b[0;34m=\u001b[0m \u001b[0mhashfunc\u001b[0m \u001b[0;32mor\u001b[0m \u001b[0mself\u001b[0m\u001b[0;34m.\u001b[0m\u001b[0mdefault_hashfunc\u001b[0m\u001b[0;34m\u001b[0m\u001b[0;34m\u001b[0m\u001b[0m\n\u001b[1;32m    108\u001b[0m         \u001b[0mdigest\u001b[0m \u001b[0;34m=\u001b[0m \u001b[0mhashfunc\u001b[0m\u001b[0;34m(\u001b[0m\u001b[0mdata\u001b[0m\u001b[0;34m)\u001b[0m\u001b[0;34m.\u001b[0m\u001b[0mdigest\u001b[0m\u001b[0;34m(\u001b[0m\u001b[0;34m)\u001b[0m\u001b[0;34m\u001b[0m\u001b[0;34m\u001b[0m\u001b[0m\n\u001b[0;32m--> 109\u001b[0;31m         \u001b[0;32mreturn\u001b[0m \u001b[0mself\u001b[0m\u001b[0;34m.\u001b[0m\u001b[0mverify_digest\u001b[0m\u001b[0;34m(\u001b[0m\u001b[0msignature\u001b[0m\u001b[0;34m,\u001b[0m \u001b[0mdigest\u001b[0m\u001b[0;34m,\u001b[0m \u001b[0msigdecode\u001b[0m\u001b[0;34m)\u001b[0m\u001b[0;34m\u001b[0m\u001b[0;34m\u001b[0m\u001b[0m\n\u001b[0m\u001b[1;32m    110\u001b[0m \u001b[0;34m\u001b[0m\u001b[0m\n\u001b[1;32m    111\u001b[0m     \u001b[0;32mdef\u001b[0m \u001b[0mverify_digest\u001b[0m\u001b[0;34m(\u001b[0m\u001b[0mself\u001b[0m\u001b[0;34m,\u001b[0m \u001b[0msignature\u001b[0m\u001b[0;34m,\u001b[0m \u001b[0mdigest\u001b[0m\u001b[0;34m,\u001b[0m \u001b[0msigdecode\u001b[0m\u001b[0;34m=\u001b[0m\u001b[0msigdecode_string\u001b[0m\u001b[0;34m)\u001b[0m\u001b[0;34m:\u001b[0m\u001b[0;34m\u001b[0m\u001b[0;34m\u001b[0m\u001b[0m\n",
      "\u001b[0;32m~/dev/digital-cash/venv/src/ecdsa/src/ecdsa/keys.py\u001b[0m in \u001b[0;36mverify_digest\u001b[0;34m(self, signature, digest, sigdecode)\u001b[0m\n\u001b[1;32m    119\u001b[0m         \u001b[0;32mif\u001b[0m \u001b[0mself\u001b[0m\u001b[0;34m.\u001b[0m\u001b[0mpubkey\u001b[0m\u001b[0;34m.\u001b[0m\u001b[0mverifies\u001b[0m\u001b[0;34m(\u001b[0m\u001b[0mnumber\u001b[0m\u001b[0;34m,\u001b[0m \u001b[0msig\u001b[0m\u001b[0;34m)\u001b[0m\u001b[0;34m:\u001b[0m\u001b[0;34m\u001b[0m\u001b[0;34m\u001b[0m\u001b[0m\n\u001b[1;32m    120\u001b[0m             \u001b[0;32mreturn\u001b[0m \u001b[0;32mTrue\u001b[0m\u001b[0;34m\u001b[0m\u001b[0;34m\u001b[0m\u001b[0m\n\u001b[0;32m--> 121\u001b[0;31m         \u001b[0;32mraise\u001b[0m \u001b[0mBadSignatureError\u001b[0m\u001b[0;34m\u001b[0m\u001b[0;34m\u001b[0m\u001b[0m\n\u001b[0m\u001b[1;32m    122\u001b[0m \u001b[0;34m\u001b[0m\u001b[0m\n\u001b[1;32m    123\u001b[0m \u001b[0;34m\u001b[0m\u001b[0m\n",
      "\u001b[0;31mBadSignatureError\u001b[0m: "
     ]
    }
   ],
   "source": [
    "public_key.verify(signature, b\"Nice XRP\")"
   ]
  },
  {
   "cell_type": "code",
   "execution_count": null,
   "metadata": {},
   "outputs": [],
   "source": []
  },
  {
   "cell_type": "markdown",
   "metadata": {},
   "source": [
    "# Defining ECDSACoin\n",
    "\n",
    "* A coin is just a list of transfers, just like with PNGCoin. \n",
    "    * Where transfers were photographs of signatures in PNGCoin, they are ECDSA digital signatures in ECDSACoin\n",
    "* The `public_key` in the last transfer is who owns the coin\n",
    "* To spend the coin append a new transfer. Use the public key of the person you are sending to, and sign it using your private key."
   ]
  },
  {
   "cell_type": "code",
   "execution_count": null,
   "metadata": {},
   "outputs": [],
   "source": [
    "class Transfer:\n",
    "    \n",
    "    def __init__(self, signature, public_key):\n",
    "        self.signature = signature\n",
    "        self.public_key = public_key\n",
    "\n",
    "class ECDSACoin:\n",
    "    \n",
    "    def __init__(self, transfers):\n",
    "        self.transfers = transfers"
   ]
  },
  {
   "cell_type": "code",
   "execution_count": null,
   "metadata": {},
   "outputs": [],
   "source": [
    "# The usual suspects ... \n",
    "# SECP256k1 is a detail about the \"magical multiplication\" used under the covers\n",
    "\n",
    "bank_private_key = SigningKey.generate(curve=SECP256k1)\n",
    "bob_private_key = SigningKey.generate(curve=SECP256k1)\n",
    "alice_private_key = SigningKey.generate(curve=SECP256k1)\n",
    "\n",
    "bank_public_key = bank_private_key.get_verifying_key()\n",
    "bob_public_key = bob_private_key.get_verifying_key()\n",
    "alice_public_key = alice_private_key.get_verifying_key()"
   ]
  },
  {
   "cell_type": "code",
   "execution_count": null,
   "metadata": {},
   "outputs": [],
   "source": [
    "from utils import serialize\n",
    "\n",
    "def issue(public_key):\n",
    "    # Create a message specifying who the coin is being issued to\n",
    "    message = serialize(public_key)\n",
    "    \n",
    "    # Create the first transfer, signing with the banks private key\n",
    "    signature = bank_private_key.sign(message)\n",
    "    transfer = Transfer(\n",
    "        signature=signature,\n",
    "        public_key=public_key,\n",
    "    )\n",
    "    \n",
    "    # Create and return the coin with just the issuing transfer\n",
    "    coin = ECDSACoin(transfers=[transfer])\n",
    "    return coin"
   ]
  },
  {
   "cell_type": "markdown",
   "metadata": {},
   "source": [
    "# Validating the First Transfer"
   ]
  },
  {
   "cell_type": "code",
   "execution_count": null,
   "metadata": {},
   "outputs": [],
   "source": [
    "def validate(coin):\n",
    "    transfer = coin.transfers[0]\n",
    "    message = serialize(transfer.public_key)\n",
    "    assert bank_public_key.verify(transfer.signature, message)"
   ]
  },
  {
   "cell_type": "code",
   "execution_count": null,
   "metadata": {},
   "outputs": [],
   "source": [
    "# give alice a ECDSACoin\n",
    "alice_coin = issue(alice_public_key)\n",
    "\n",
    "validate(alice_coin)"
   ]
  },
  {
   "cell_type": "code",
   "execution_count": null,
   "metadata": {},
   "outputs": [],
   "source": [
    "# Example where the signature is done using wrong private key\n",
    "\n",
    "bad_message = serialize(alice_public_key)\n",
    "bad_transfer = Transfer(\n",
    "    signature=bob_private_key.sign(bad_message),  # WRONG SIGNING KEY\n",
    "    public_key=alice_public_key,\n",
    ")\n",
    "bad_coin = ECDSACoin(transfers=[bad_transfer])"
   ]
  },
  {
   "cell_type": "code",
   "execution_count": null,
   "metadata": {},
   "outputs": [],
   "source": [
    "from ecdsa import BadSignatureError\n",
    "\n",
    "try:\n",
    "    validate(bad_coin)\n",
    "except BadSignatureError:\n",
    "    print(\"Bad signature detected\")"
   ]
  },
  {
   "cell_type": "markdown",
   "metadata": {},
   "source": [
    "# Validating Subsequent Transfers"
   ]
  },
  {
   "cell_type": "code",
   "execution_count": null,
   "metadata": {},
   "outputs": [],
   "source": [
    "def transfer_message(previous_signature, public_key):\n",
    "    return serialize({\n",
    "        \"previous_signature\": previous_signature, \n",
    "        \"next_owner_public_key\": public_key,\n",
    "    })\n",
    "\n",
    "def validate(coin):\n",
    "    # Check the first transfer\n",
    "    transfer = coin.transfers[0]\n",
    "    message = serialize(transfer.public_key)\n",
    "    assert bank_public_key.verify(transfer.signature, message)\n",
    "    \n",
    "    # Check the subsequent transfers\n",
    "    previous_transfer = coin.transfers[0]\n",
    "    for transfer in coin.transfers[1:]:\n",
    "        # Check previous owner signed this transfer using their private key\n",
    "        assert previous_transfer.public_key.verify(\n",
    "            transfer.signature,\n",
    "            transfer_message(previous_transfer.signature, transfer.public_key),\n",
    "        )\n",
    "        previous_transfer = transfer"
   ]
  },
  {
   "cell_type": "code",
   "execution_count": null,
   "metadata": {},
   "outputs": [],
   "source": [
    "def get_owner(coin):\n",
    "    database = {\n",
    "        serialize(bob_public_key): \"Bob\",\n",
    "        serialize(alice_public_key): \"Alice\",\n",
    "        serialize(bank_public_key): \"Bank\",\n",
    "    }\n",
    "    public_key = serialize(coin.transfers[-1].public_key)\n",
    "    return database[public_key]"
   ]
  },
  {
   "cell_type": "code",
   "execution_count": null,
   "metadata": {},
   "outputs": [],
   "source": [
    "alice_coin = issue(alice_public_key)\n",
    "\n",
    "print(\"This coin is owned by\", get_owner(alice_coin))\n",
    "\n",
    "m1 = transfer_message(alice_coin.transfers[0].signature, bob_public_key)\n",
    "alice_to_bob = Transfer(\n",
    "    signature=alice_private_key.sign(m1),\n",
    "    public_key=bob_public_key,\n",
    ")\n",
    "alice_coin.transfers.append(alice_to_bob)\n",
    "validate(alice_coin)\n",
    "\n",
    "print(\"This coin is owned by\", get_owner(alice_coin))\n",
    "\n",
    "m2 = transfer_message(alice_coin.transfers[1].signature, bank_public_key)\n",
    "bob_to_bank = Transfer(\n",
    "    signature=bob_private_key.sign(m2),\n",
    "    public_key=bank_public_key,\n",
    ")\n",
    "alice_coin.transfers.append(bob_to_bank)\n",
    "validate(alice_coin)\n",
    "\n",
    "print(\"This coin is owned by\", get_owner(alice_coin))"
   ]
  },
  {
   "cell_type": "code",
   "execution_count": null,
   "metadata": {},
   "outputs": [],
   "source": [
    "# No errors means the signature was good\n",
    "validate(alice_coin)"
   ]
  },
  {
   "cell_type": "code",
   "execution_count": null,
   "metadata": {},
   "outputs": [],
   "source": [
    "alice_coin = issue(alice_public_key)\n",
    "\n",
    "m = transfer_message(alice_coin.transfers[0].signature, bob_public_key)\n",
    "alice_to_bob_forged = Transfer(\n",
    "    signature=bob_private_key.sign(m),\n",
    "    public_key=bob_public_key,\n",
    ")\n",
    "\n",
    "alice_coin.transfers.append(alice_to_bob_forged)"
   ]
  },
  {
   "cell_type": "code",
   "execution_count": null,
   "metadata": {},
   "outputs": [],
   "source": [
    "try:\n",
    "    # Should raise a BadSignatureError\n",
    "    validate(alice_coin)\n",
    "except BadSignatureError:\n",
    "    print(\"Bad signature detected\")"
   ]
  },
  {
   "cell_type": "markdown",
   "metadata": {},
   "source": [
    "# Serialization"
   ]
  },
  {
   "cell_type": "code",
   "execution_count": null,
   "metadata": {},
   "outputs": [],
   "source": [
    "# The code from last time still works (utils.py)\n",
    "from utils import to_disk, from_disk"
   ]
  },
  {
   "cell_type": "code",
   "execution_count": null,
   "metadata": {},
   "outputs": [],
   "source": [
    "import os\n",
    "\n",
    "filename = \"alices.ecdsacoin\"\n",
    " \n",
    "print(\"Alice's coinfile exists on disk?\", os.path.isfile(filename))"
   ]
  },
  {
   "cell_type": "code",
   "execution_count": null,
   "metadata": {},
   "outputs": [],
   "source": [
    "alice_coin = issue(alice_public_key)\n",
    "\n",
    "to_disk(alice_coin, filename)"
   ]
  },
  {
   "cell_type": "code",
   "execution_count": null,
   "metadata": {},
   "outputs": [],
   "source": [
    "print(\"Alice's coinfile exists on disk?\", os.path.isfile(filename))"
   ]
  },
  {
   "cell_type": "markdown",
   "metadata": {},
   "source": [
    "# The Finished Product\n",
    "\n",
    "[ecdsacoin.py](ecdsacoin.py)"
   ]
  },
  {
   "cell_type": "code",
   "execution_count": null,
   "metadata": {},
   "outputs": [],
   "source": [
    "import ecdsacoin\n",
    "\n",
    "coin = ecdsacoin.issue(alice_public_key)\n",
    "coin.validate()\n",
    "\n",
    "message = ecdsacoin.transfer_message(coin.transfers[0].signature, bob_public_key)\n",
    "alice_to_bob = Transfer(\n",
    "    signature=alice_private_key.sign(message),\n",
    "    public_key=bob_public_key,\n",
    ")\n",
    "\n",
    "coin.transfers.append(alice_to_bob)\n",
    "coin.validate()"
   ]
  }
 ],
 "metadata": {
  "kernelspec": {
   "display_name": "Python 3",
   "language": "python",
   "name": "python3"
  },
  "language_info": {
   "codemirror_mode": {
    "name": "ipython",
    "version": 3
   },
   "file_extension": ".py",
   "mimetype": "text/x-python",
   "name": "python",
   "nbconvert_exporter": "python",
   "pygments_lexer": "ipython3",
   "version": "3.7.1"
  }
 },
 "nbformat": 4,
 "nbformat_minor": 2
}

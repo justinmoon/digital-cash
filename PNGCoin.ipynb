{
 "cells": [
  {
   "cell_type": "markdown",
   "metadata": {},
   "source": [
    "[Here are the slides](https://docs.google.com/presentation/d/11uyJMpCyVceYlC50QUdVp3DJe42BLxW4CHykxIdR7AU/edit?usp=sharing)\n"
   ]
  },
  {
   "cell_type": "markdown",
   "metadata": {},
   "source": [
    "# Opening Images in Python"
   ]
  },
  {
   "cell_type": "code",
   "execution_count": 23,
   "metadata": {},
   "outputs": [],
   "source": [
    "from PIL import Image\n",
    "\n",
    "img = Image.open(\"alice.png\")\n",
    "img.show()"
   ]
  },
  {
   "cell_type": "markdown",
   "metadata": {},
   "source": [
    "# Asking User to Verify a PNG Signature \n",
    "\n",
    "Requesting user input. Does the supplied signature photo make sense?"
   ]
  },
  {
   "cell_type": "code",
   "execution_count": 2,
   "metadata": {},
   "outputs": [],
   "source": [
    "# note to self\n",
    "\n",
    "def validate():\n",
    "    \"\"\"Just validate one transfer\"\"\"\n",
    "    user_input = input(\"Is this a valid signature? (y/n)\")\n",
    "    if user_input.lower() == \"y\":\n",
    "        print(\"It's valid!\")\n",
    "    elif user_input.lower() == \"n\":\n",
    "        print(\"It's not valid!\")\n",
    "    else:\n",
    "        validate()"
   ]
  },
  {
   "cell_type": "code",
   "execution_count": 3,
   "metadata": {},
   "outputs": [],
   "source": [
    "def display_and_verify(filename):\n",
    "    img = Image.open(filename)\n",
    "    img.show()\n",
    "    validate()"
   ]
  },
  {
   "cell_type": "code",
   "execution_count": 4,
   "metadata": {},
   "outputs": [
    {
     "name": "stdout",
     "output_type": "stream",
     "text": [
      "Is this a valid signature? (y/n)y\n",
      "It's valid!\n"
     ]
    }
   ],
   "source": [
    "display_and_verify(\"alice.png\")"
   ]
  },
  {
   "cell_type": "markdown",
   "metadata": {},
   "source": [
    "# Defining the Coin\n",
    "\n",
    "Stupid-simple Python class"
   ]
  },
  {
   "cell_type": "code",
   "execution_count": 7,
   "metadata": {},
   "outputs": [],
   "source": [
    "class PNGCoin:\n",
    "    \n",
    "    def __init__(self, transfers):\n",
    "        self.transfers = transfers  # Instances of PIL.Image\n",
    "        \n",
    "c = PNGCoin()"
   ]
  },
  {
   "cell_type": "markdown",
   "metadata": {},
   "source": [
    "# Validating a Coin\n",
    "\n",
    "Here we check every entry in PNGCoin.transfers"
   ]
  },
  {
   "cell_type": "code",
   "execution_count": 17,
   "metadata": {},
   "outputs": [
    {
     "name": "stdout",
     "output_type": "stream",
     "text": [
      "1\n"
     ]
    }
   ],
   "source": [
    "def first():\n",
    "    return second()\n",
    "\n",
    "def second():\n",
    "    return 1\n",
    "\n",
    "print(first())"
   ]
  },
  {
   "cell_type": "code",
   "execution_count": 21,
   "metadata": {},
   "outputs": [
    {
     "data": {
      "text/plain": [
       "True"
      ]
     },
     "execution_count": 21,
     "metadata": {},
     "output_type": "execute_result"
    }
   ],
   "source": [
    "bool(7)"
   ]
  },
  {
   "cell_type": "code",
   "execution_count": 13,
   "metadata": {},
   "outputs": [
    {
     "ename": "IndentationError",
     "evalue": "unexpected indent (<ipython-input-13-01a31bccac29>, line 14)",
     "output_type": "error",
     "traceback": [
      "\u001b[0;36m  File \u001b[0;32m\"<ipython-input-13-01a31bccac29>\"\u001b[0;36m, line \u001b[0;32m14\u001b[0m\n\u001b[0;31m    handle_user_input (True is lost)\u001b[0m\n\u001b[0m    ^\u001b[0m\n\u001b[0;31mIndentationError\u001b[0m\u001b[0;31m:\u001b[0m unexpected indent\n"
     ]
    }
   ],
   "source": [
    "def handle_user_input(user_input):\n",
    "    if user_input.lower() == \"y\":\n",
    "        return True\n",
    "    elif user_input.lower() == \"n\":\n",
    "        return False\n",
    "    else:\n",
    "        user_input  = input('Please enter \"y\" or \"n\"')\n",
    "        return handle_user_input(user_input)\n",
    "\n",
    "validate\n",
    "  handle_user_input (True is lost)\n",
    "    handle_user_input -> True\n",
    "    \n",
    "def validate(coin):\n",
    "    for transfer in coin.transfers:\n",
    "        transfer.show()\n",
    "        user_input = input(\"Is this a valid signature? (y/n)\")\n",
    "        valid = handle_user_input(user_input)\n",
    "        if not valid:\n",
    "            return False\n",
    "    return True"
   ]
  },
  {
   "cell_type": "code",
   "execution_count": 9,
   "metadata": {},
   "outputs": [
    {
     "name": "stdout",
     "output_type": "stream",
     "text": [
      "Is this a valid signature? (y/n)y\n",
      "Is this a valid signature? (y/n)y\n"
     ]
    },
    {
     "data": {
      "text/plain": [
       "True"
      ]
     },
     "execution_count": 9,
     "metadata": {},
     "output_type": "execute_result"
    }
   ],
   "source": [
    "coin = PNGCoin([\n",
    "    Image.open(\"alice.png\"),\n",
    "    Image.open(\"alice-to-bob.png\")\n",
    "])\n",
    "validate(coin)"
   ]
  },
  {
   "cell_type": "code",
   "execution_count": 22,
   "metadata": {},
   "outputs": [
    {
     "name": "stdout",
     "output_type": "stream",
     "text": [
      "Is this a valid signature? (y/n)y\n",
      "Is this a valid signature? (y/n)n\n"
     ]
    },
    {
     "data": {
      "text/plain": [
       "False"
      ]
     },
     "execution_count": 22,
     "metadata": {},
     "output_type": "execute_result"
    }
   ],
   "source": [
    "# A forgery\n",
    "coin = PNGCoin([\n",
    "    Image.open(\"alice.png\"),\n",
    "    Image.open(\"alice-to-bob-forged.png\")\n",
    "])\n",
    "validate(coin)\n"
   ]
  },
  {
   "cell_type": "markdown",
   "metadata": {},
   "source": [
    "# Serializing Coins \n",
    "\n",
    "Let's take the coin defined ^^ and write it to disk with help from `pickle`"
   ]
  },
  {
   "cell_type": "code",
   "execution_count": null,
   "metadata": {},
   "outputs": [],
   "source": [
    "import pickle\n",
    "\n",
    "def serialize(coin):\n",
    "    return pickle.dumps(coin)"
   ]
  },
  {
   "cell_type": "code",
   "execution_count": null,
   "metadata": {},
   "outputs": [],
   "source": [
    "def to_disk(coin, filename):\n",
    "    serialized = serialize(coin)\n",
    "    with open(filename, \"wb\") as f:\n",
    "        f.write(serialized)"
   ]
  },
  {
   "cell_type": "code",
   "execution_count": null,
   "metadata": {},
   "outputs": [],
   "source": [
    "import os\n",
    "\n",
    "def file_exists(filename):\n",
    "    return os.path.isfile(filename)\n"
   ]
  },
  {
   "cell_type": "code",
   "execution_count": null,
   "metadata": {},
   "outputs": [],
   "source": [
    "file_exists(\"coin.pngcoin\")"
   ]
  },
  {
   "cell_type": "code",
   "execution_count": null,
   "metadata": {},
   "outputs": [],
   "source": [
    "to_disk(coin, \"coin.pngcoin\")"
   ]
  },
  {
   "cell_type": "code",
   "execution_count": null,
   "metadata": {
    "scrolled": true
   },
   "outputs": [],
   "source": [
    "file_exists(\"coin.pngcoin\")"
   ]
  },
  {
   "cell_type": "markdown",
   "metadata": {},
   "source": [
    "# Deserializing Coins\n",
    "\n",
    "Let's take the `coin.pngcoin` file we created ^^ and read it back into Python with help from `pickle`"
   ]
  },
  {
   "cell_type": "code",
   "execution_count": null,
   "metadata": {},
   "outputs": [],
   "source": [
    "def deserialize(serialized):\n",
    "    return pickle.loads(serialized)"
   ]
  },
  {
   "cell_type": "code",
   "execution_count": null,
   "metadata": {},
   "outputs": [],
   "source": [
    "coin2 = deserialize(serialize(coin))\n",
    "\n",
    "print(coin2.transfers == coin.transfers)"
   ]
  },
  {
   "cell_type": "code",
   "execution_count": null,
   "metadata": {},
   "outputs": [],
   "source": [
    "def from_disk(filename):\n",
    "    with open(filename, \"rb\") as f:\n",
    "        serialized = f.read()\n",
    "        return deserialize(serialized)"
   ]
  },
  {
   "cell_type": "code",
   "execution_count": null,
   "metadata": {
    "scrolled": true
   },
   "outputs": [],
   "source": [
    "coin3 = from_disk(\"coin.pngcoin\")\n",
    "\n",
    "print(coin3.transfers == coin.transfers)"
   ]
  },
  {
   "cell_type": "markdown",
   "metadata": {},
   "source": [
    "# Using the Final Library\n",
    "\n",
    "I also wrote a [pngcoin.py](pngcoin.py) library that uses a more object-oriented design. Here's how it works:"
   ]
  },
  {
   "cell_type": "code",
   "execution_count": null,
   "metadata": {},
   "outputs": [],
   "source": [
    "import pngcoin"
   ]
  },
  {
   "cell_type": "code",
   "execution_count": null,
   "metadata": {},
   "outputs": [],
   "source": [
    "coin = pngcoin.PNGCoin([\n",
    "    Image.open(\"alice.png\"),\n",
    "    Image.open(\"alice-to-bob.png\")\n",
    "])"
   ]
  },
  {
   "cell_type": "code",
   "execution_count": null,
   "metadata": {},
   "outputs": [],
   "source": [
    "coin.validate()"
   ]
  },
  {
   "cell_type": "code",
   "execution_count": null,
   "metadata": {},
   "outputs": [],
   "source": [
    "coin.to_disk(\"library-example.pngcoin\")"
   ]
  },
  {
   "cell_type": "code",
   "execution_count": null,
   "metadata": {},
   "outputs": [],
   "source": [
    "coin = pngcoin.PNGCoin.from_disk(\"library-example.pngcoin\")\n",
    "coin.validate()"
   ]
  },
  {
   "cell_type": "code",
   "execution_count": null,
   "metadata": {},
   "outputs": [],
   "source": []
  }
 ],
 "metadata": {
  "kernelspec": {
   "display_name": "Python 3",
   "language": "python",
   "name": "python3"
  },
  "language_info": {
   "codemirror_mode": {
    "name": "ipython",
    "version": 3
   },
   "file_extension": ".py",
   "mimetype": "text/x-python",
   "name": "python",
   "nbconvert_exporter": "python",
   "pygments_lexer": "ipython3",
   "version": "3.7.1"
  }
 },
 "nbformat": 4,
 "nbformat_minor": 2
}
